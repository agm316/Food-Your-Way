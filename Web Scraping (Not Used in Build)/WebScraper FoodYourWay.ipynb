{
 "cells": [
  {
   "cell_type": "markdown",
   "id": "0c41fda6",
   "metadata": {},
   "source": [
    "# WEB SCRAPING \n",
    "\n",
    "Since our project relies on a working database of recipes we need to find the recipes and be able to input them into our database. An efficient way of doing this is through web scraping (while giving credit of course) online recipe sites.\n",
    "\n",
    "This means that a large part of the project actually having data relies on this webscraper and the quality of recipes and information it can extract."
   ]
  },
  {
   "cell_type": "code",
   "execution_count": 102,
   "id": "3caba26c",
   "metadata": {},
   "outputs": [],
   "source": [
    "import selenium\n",
    "from bs4 import BeautifulSoup\n",
    "import pandas as pd\n",
    "import requests"
   ]
  },
  {
   "cell_type": "code",
   "execution_count": 12,
   "id": "d7d5a6bd",
   "metadata": {},
   "outputs": [],
   "source": [
    "URL = 'https://www.allrecipes.com/recipes/659/meat-and-poultry/chicken/chicken-breasts/'\n",
    "r = requests.get(URL)\n",
    "\n",
    "soup = BeautifulSoup(r.content, 'html5lib')"
   ]
  },
  {
   "cell_type": "code",
   "execution_count": 114,
   "id": "eb0cfb1a",
   "metadata": {},
   "outputs": [],
   "source": [
    "recipes = []\n",
    "i = 0\n",
    "\n",
    "#table = soup.find('div', attrs = {'id':'tax-sc__recirc-list_1-0-1'})\n",
    "\n",
    "for row in soup.findAll('a',\n",
    "                        attrs = {'class': ['comp mntl-card-list-items mntl-document-card mntl-card card card--no-image']}):\n",
    "    try:\n",
    "        recipe = {}\n",
    "        nurl = row.get('href')\n",
    "        nr = requests.get(nurl)\n",
    "        nsoup = BeautifulSoup(nr.content, 'html5lib')\n",
    "\n",
    "        name = nsoup.find('h1', attrs = {'id' : 'article-heading_1-0'}).text\n",
    "        recipe['name'] = name[1:]\n",
    "\n",
    "        details = nsoup.find('div', attrs = {'class':'mntl-recipe-details__content'})\n",
    "        for nrow in details.findAll('div', attrs = {'class':'mntl-recipe-details__item'}):\n",
    "\n",
    "            label = nrow.find('div', attrs = {'class' : 'mntl-recipe-details__label'}).text\n",
    "            value = nrow.find('div', attrs = {'class' : 'mntl-recipe-details__value'}).text\n",
    "            recipe[label[:-1]] = value\n",
    "\n",
    "        ingredientsData = nsoup.find('ul', attrs = {'class' : 'mntl-structured-ingredients__list'})\n",
    "        ingredients = []\n",
    "        for nrow in ingredientsData.findAll('li', attrs = {'class' : 'mntl-structured-ingredients__list-item'}):\n",
    "\n",
    "            ingredient = {}\n",
    "            quantity = nrow.find('span', attrs = {'data-ingredient-quantity' : 'true'}).text\n",
    "            unit = nrow.find('span', attrs = {'data-ingredient-unit' : 'true'}).text\n",
    "            ing_name = nrow.find('span', attrs = {'data-ingredient-name' : 'true'}).text\n",
    "\n",
    "            ingredient['quantity'] = quantity\n",
    "            ingredient['unit'] = unit\n",
    "            ingredient['name'] = ing_name\n",
    "\n",
    "            ingredients.append(ingredient)\n",
    "            recipe['ingredients'] = ingredients\n",
    "\n",
    "        directions = nsoup.find('div', attrs = {'id' : 'recipe__steps-content_1-0'}).text\n",
    "        directions = [l for l in directions.splitlines() if l]\n",
    "        dirdict = {}\n",
    "        for i in range(len(directions)): dirdict[f'{i}'] = directions[i];\n",
    "\n",
    "        recipe['directions'] = directions\n",
    "\n",
    "        recipe['url'] = nurl\n",
    "\n",
    "        recipes.append(recipe)\n",
    "    except:\n",
    "        continue"
   ]
  },
  {
   "cell_type": "code",
   "execution_count": 115,
   "id": "8029231d",
   "metadata": {},
   "outputs": [],
   "source": [
    "df = pd.DataFrame.from_dict(recipes)\n",
    "df.to_csv('recipes.csv')"
   ]
  }
 ],
 "metadata": {
  "kernelspec": {
   "display_name": "Python 3 (ipykernel)",
   "language": "python",
   "name": "python3"
  },
  "language_info": {
   "codemirror_mode": {
    "name": "ipython",
    "version": 3
   },
   "file_extension": ".py",
   "mimetype": "text/x-python",
   "name": "python",
   "nbconvert_exporter": "python",
   "pygments_lexer": "ipython3",
   "version": "3.9.12"
  }
 },
 "nbformat": 4,
 "nbformat_minor": 5
}
