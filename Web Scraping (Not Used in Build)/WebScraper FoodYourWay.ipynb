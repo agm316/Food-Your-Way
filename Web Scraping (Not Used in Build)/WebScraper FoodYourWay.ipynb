{
 "cells": [
  {
   "cell_type": "markdown",
   "id": "0c41fda6",
   "metadata": {},
   "source": [
    "# WEB SCRAPING \n",
    "\n",
    "Since our project relies on a working database of recipes we need to find the recipes and be able to input them into our database. An efficient way of doing this is through web scraping (while giving credit of course) online recipe sites.\n",
    "\n",
    "This means that a large part of the project actually having data relies on this webscraper and the quality of recipes and information it can extract."
   ]
  },
  {
   "cell_type": "code",
   "execution_count": 1,
   "id": "3caba26c",
   "metadata": {},
   "outputs": [],
   "source": [
    "import selenium\n",
    "from bs4 import BeautifulSoup\n",
    "import pandas\n",
    "import requests"
   ]
  },
  {
   "cell_type": "code",
   "execution_count": 12,
   "id": "d7d5a6bd",
   "metadata": {},
   "outputs": [],
   "source": [
    "URL = 'https://www.allrecipes.com/recipes/659/meat-and-poultry/chicken/chicken-breasts/'\n",
    "r = requests.get(URL)\n",
    "\n",
    "soup = BeautifulSoup(r.content, 'html5lib')"
   ]
  },
  {
   "cell_type": "code",
   "execution_count": 33,
   "id": "5df364c5",
   "metadata": {},
   "outputs": [
    {
     "name": "stdout",
     "output_type": "stream",
     "text": [
      "['Air Fryer Frozen Chicken Strips', 'Banh Mi', 'Easy Italian Chicken', 'Yummy Honey Chicken Kabobs', 'Chicken Noodle Casserole', \"Sarah's Easy Shredded Chicken Taco Filling\", 'Baked Chicken Nuggets', 'Pesto Pasta with Chicken', 'Easy Indian Butter Chicken', 'Blackened Chicken', 'Cajun Chicken Pasta', \"Chef John's Chicken Kiev\"]\n"
     ]
    }
   ],
   "source": [
    "# <span class=\"card__title-text\"></span>\n",
    "recipes = []\n",
    "\n",
    "table = soup.find('div', attrs = {'id':'tax-sc__recirc-list_1-0-1'})\n",
    "\n",
    "for row in table.findAll('span',\n",
    "                        attrs = {'class':'card__title-text'}):\n",
    "     recipes.append(row.string)\n",
    "    \n",
    "print(recipes)\n",
    "    \n",
    "\n"
   ]
  },
  {
   "cell_type": "code",
   "execution_count": null,
   "id": "b2aee843",
   "metadata": {},
   "outputs": [],
   "source": []
  }
 ],
 "metadata": {
  "kernelspec": {
   "display_name": "Python 3 (ipykernel)",
   "language": "python",
   "name": "python3"
  },
  "language_info": {
   "codemirror_mode": {
    "name": "ipython",
    "version": 3
   },
   "file_extension": ".py",
   "mimetype": "text/x-python",
   "name": "python",
   "nbconvert_exporter": "python",
   "pygments_lexer": "ipython3",
   "version": "3.9.12"
  }
 },
 "nbformat": 4,
 "nbformat_minor": 5
}
